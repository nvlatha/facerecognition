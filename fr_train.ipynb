{
 "cells": [
  {
   "cell_type": "markdown",
   "id": "57e2de09",
   "metadata": {},
   "source": [
    "# face_recognition train"
   ]
  },
  {
   "cell_type": "code",
   "execution_count": null,
   "id": "8e243f1b",
   "metadata": {},
   "outputs": [],
   "source": [
    "import cv2\n",
    "import numpy as np\n",
    "import os\n",
    "import pickle\n",
    "import face_recognition\n",
    "import time\n",
    "\n",
    "training_path = 'C:\\\\Users\\\\Learning\\\\udemy\\\\Hackathon\\\\ultimate\\\\dataset\\\\train\\\\'\n",
    "pickle_filename = \"C:\\\\Users\\\\Learning\\\\udemy\\\\Hackathon\\\\ultimate\\\\dataset\\\\trained_models\\\\face_encodings_custom.pickle\" #train model\n",
    "\n",
    "def load_encodings(path_dataset):\n",
    "    list_encodings = []\n",
    "    list_names = []\n",
    "\n",
    "    # Store image encoding and names\n",
    "    subdirs = [os.path.join(path_dataset, f) for f in os.listdir(path_dataset)]\n",
    "\n",
    "    for subdir in subdirs:\n",
    "        name = subdir.split(os.path.sep)[-1]  # get the name of the subdirectory (which is named after the person)\n",
    "        images_list = [os.path.join(subdir, f) for f in os.listdir(subdir) if not os.path.basename(f).startswith(\".\")]\n",
    "\n",
    "        for image_path in images_list:\n",
    "            try:\n",
    "                img = cv2.imread(image_path)\n",
    "                if img is None:\n",
    "                    print(\"Error loading image:\", image_path)\n",
    "                    continue\n",
    "\n",
    "                img = cv2.cvtColor(img, cv2.COLOR_BGR2RGB)\n",
    "\n",
    "                #print(name + \" <-- \" + image_path)\n",
    "\n",
    "                # Get encoding\n",
    "                face_roi = face_recognition.face_locations(img, model=\"cnn\")  # cnn or hog\n",
    "\n",
    "                img_encoding = face_recognition.face_encodings(img, face_roi)\n",
    "                if len(img_encoding) > 0:\n",
    "                    # Store file name and file encoding\n",
    "                    img_encoding = img_encoding[0]\n",
    "                    list_encodings.append(img_encoding)\n",
    "                    list_names.append(name)\n",
    "                else:\n",
    "                    print(\"Couldn't encode face from image:\", image_path)  # probably because couldn't find any face on the image\n",
    "            except Exception as e:\n",
    "                print(\"Error processing image:\", image_path)\n",
    "                print(e)\n",
    "\n",
    "    return list_encodings, list_names\n",
    "\n",
    "start_time = time.time()\n",
    "print(\"Execution started...\")\n",
    "\n",
    "list_encodings, list_names = load_encodings(training_path)\n",
    "\n",
    "#print(\"Number of encodings:\", len(list_encodings))\n",
    "#print(\"List of names:\", list_names)\n",
    "\n",
    "# store the encodings and names in a pickle file\n",
    "encodings_data = {\"encodings\": list_encodings, \"names\": list_names}\n",
    "with open(pickle_filename, \"wb\") as f:\n",
    "    pickle.dump(encodings_data, f)\n",
    "    \n",
    "\n",
    "print(\"=====================================================================\")   \n",
    "\n",
    "print(\"Execution completed.\")\n",
    "print(\"Total execution time: {:.2f} seconds\".format(time.time() - start_time))\n",
    "print(\"=====================================================================\")   \n"
   ]
  },
  {
   "cell_type": "code",
   "execution_count": null,
   "id": "32136841",
   "metadata": {},
   "outputs": [],
   "source": []
  }
 ],
 "metadata": {
  "kernelspec": {
   "display_name": "Python 3 (ipykernel)",
   "language": "python",
   "name": "python3"
  },
  "language_info": {
   "codemirror_mode": {
    "name": "ipython",
    "version": 3
   },
   "file_extension": ".py",
   "mimetype": "text/x-python",
   "name": "python",
   "nbconvert_exporter": "python",
   "pygments_lexer": "ipython3",
   "version": "3.11.5"
  }
 },
 "nbformat": 4,
 "nbformat_minor": 5
}
